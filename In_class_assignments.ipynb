{
  "nbformat": 4,
  "nbformat_minor": 0,
  "metadata": {
    "colab": {
      "provenance": [],
      "authorship_tag": "ABX9TyNBgCkBE6208UHm+JYO30ov",
      "include_colab_link": true
    },
    "kernelspec": {
      "name": "python3",
      "display_name": "Python 3"
    },
    "language_info": {
      "name": "python"
    }
  },
  "cells": [
    {
      "cell_type": "markdown",
      "metadata": {
        "id": "view-in-github",
        "colab_type": "text"
      },
      "source": [
        "<a href=\"https://colab.research.google.com/github/jadatadros/BTE320-In-Class-Assignments/blob/main/In_class_assignments.ipynb\" target=\"_parent\"><img src=\"https://colab.research.google.com/assets/colab-badge.svg\" alt=\"Open In Colab\"/></a>"
      ]
    },
    {
      "cell_type": "code",
      "source": [
        "# In Class Assignment 1\n",
        "pi = 3.14\n",
        "r = 5\n",
        "shape = \"circle\"\n",
        "\n",
        "if shape == \"circle\": #we see this outcome because the shape is a circle, so the expression is true\n",
        "  area = pi * r ** 2\n",
        "  print(area)\n",
        "\n"
      ],
      "metadata": {
        "colab": {
          "base_uri": "https://localhost:8080/"
        },
        "id": "m7rT3fJ11Q2w",
        "outputId": "ef725402-e9af-47ec-ca31-9d9e7b375bce"
      },
      "execution_count": null,
      "outputs": [
        {
          "output_type": "stream",
          "name": "stdout",
          "text": [
            "78.5\n"
          ]
        }
      ]
    },
    {
      "cell_type": "code",
      "source": [],
      "metadata": {
        "id": "mB7ppcgLSWFF"
      },
      "execution_count": null,
      "outputs": []
    },
    {
      "cell_type": "code",
      "source": [
        "#OR IS THIS ASSIGNMENT 1????\n",
        "\n",
        "pi = 3.14\n",
        "r = 5 #radius\n",
        "c = 10 # side of square\n",
        "h = 8 # height of cylinder\n",
        "shape = \"square\"\n",
        "\n",
        "if shape == \"circle\":\n",
        "  area = pi * r ** 2\n",
        "  print(area)\n",
        "\n",
        "if shape == \"square\":\n",
        "  area = c ** 2\n",
        "  print(area)\n",
        "\n",
        "\n",
        "print('Program ends...')"
      ],
      "metadata": {
        "colab": {
          "base_uri": "https://localhost:8080/"
        },
        "id": "nBKCBm8h4KP5",
        "outputId": "e68321fa-0835-4560-9e8c-8268b627da19"
      },
      "execution_count": null,
      "outputs": [
        {
          "output_type": "stream",
          "name": "stdout",
          "text": [
            "100\n",
            "Program ends...\n"
          ]
        }
      ]
    },
    {
      "cell_type": "code",
      "source": [
        "#OR IS THIS ASSIGNMENT 1????\n",
        "\n",
        "pi = 3.14\n",
        "r = 5 #radius\n",
        "c = 10 # side of square\n",
        "h = 8 # height of cylinder\n",
        "shape = \"square\"\n",
        "\n",
        "if shape == \"circle\":\n",
        "  area = pi * r ** 2\n",
        "elif shape == \"square\":\n",
        "  area = c ** 2\n",
        "elif shape == \"cylinder\":\n",
        "  area = 2 * pi * r * h + 2 * pi * r ** 2\n",
        "elif shape == \"triangle\":\n",
        "  area = .5 * c * h\n",
        "else:\n",
        "  area = .5 * c * h\n",
        "print(area)\n",
        "\n",
        "print('Program ends...')"
      ],
      "metadata": {
        "colab": {
          "base_uri": "https://localhost:8080/"
        },
        "id": "ls5qTpAx-gZh",
        "outputId": "98107786-d23a-4100-e422-523e99175345"
      },
      "execution_count": null,
      "outputs": [
        {
          "output_type": "stream",
          "name": "stdout",
          "text": [
            "100\n",
            "Program ends...\n"
          ]
        }
      ]
    },
    {
      "cell_type": "code",
      "source": [
        "#In-class Assignment 2 rock paper scissors game but using a while loop ?????\n",
        "\n",
        "c = input('Do you want to play? ') #initialization\n",
        "\n",
        "while c == 'yes': #condition\n",
        "  P1 = input('Enter move P1 ')\n",
        "  P2 = input('Enter move P2 ')\n",
        "\n",
        "  if P1 == P2:\n",
        "    print('Draw')\n",
        "  elif P1 == 'rock' and P2 == 'scissors' or P1 == 'scissors' and P2 == 'paper'or P1== 'paper'and P2 == 'rock':\n",
        "    print('P1 wins')\n",
        "  elif P2 =='rock'and P1 == 'scissors' or P2 == 'scissors' and P1 == 'paper'or P2== 'paper'and P1 == 'rock': #can also just use else: print('P2 wins') for this line\n",
        "    print('P2 wins')\n",
        "  c = input('Do you want to play? ') #has to be on the same level of indentation as the if statements, not more indented\n"
      ],
      "metadata": {
        "id": "t_olKd3eTsQs"
      },
      "execution_count": null,
      "outputs": []
    },
    {
      "cell_type": "code",
      "source": [
        "#In-class Assignment 2 ??????\n",
        "\n",
        "input1 = float(input('enter input 1'))\n",
        "input2 = float(input('enter input 2'))\n",
        "symbol = input('choose operation +,-,*,**,/')\n",
        "\n",
        "\n",
        "if symbol == '+':\n",
        "  print(f'input1 + input2={input1+input2}')\n",
        "  calculation = input1 + input2\n",
        "elif symbol == '-':\n",
        "  print(f'input1 - input2={input1-input2}')\n",
        "  calculation = input1 - input2\n",
        "elif symbol == '*':\n",
        "  print(f'input1 * input2={input1*input2}')\n",
        "  calculation = input1 * input2\n",
        "elif symbol == '**':\n",
        "  print(f'input1 ** input2={input1**input2}')\n",
        "  calculation = input1 ** input2\n",
        "elif symbol == '/':\n",
        "  print(f'input1 / input2={input1/input2}')\n",
        "  calculation = input1 / input2\n",
        "\n",
        "print(calculation)\n",
        "\n"
      ],
      "metadata": {
        "colab": {
          "base_uri": "https://localhost:8080/"
        },
        "id": "3HWNybCW9HcK",
        "outputId": "55d88cab-9f3b-4e04-812f-1dbffce881a9"
      },
      "execution_count": null,
      "outputs": [
        {
          "output_type": "stream",
          "name": "stdout",
          "text": [
            "enter input 12\n",
            "enter input 23\n",
            "choose operation +,-,*,**,/+\n",
            "input1 + input2=5.0\n",
            "5.0\n"
          ]
        }
      ]
    },
    {
      "cell_type": "code",
      "source": [
        "#In class Assignment 4\n",
        "# A parking garage charges $5 plus $2.50 for each hour parked. The minimum fee is $10 and the max fee is $20. Write a program that generates a table with hours parked and\n",
        "#the corresponding fee, from 1 to 8 hours (based on description can tell that u should use for loop for this)\n",
        "\n",
        "\n",
        "flat_rate = 5\n",
        "\n",
        "for t in range (1,9):\n",
        "  charge = flat_rate + 2.5 * t\n",
        "  if charge < 10:\n",
        "    charge = 10\n",
        "  elif charge > 20:\n",
        "    charge = 20\n",
        "  print (t, charge)"
      ],
      "metadata": {
        "colab": {
          "base_uri": "https://localhost:8080/"
        },
        "id": "5N4L13mzDbLg",
        "outputId": "9b73d9f3-8d57-4fd0-ecd8-b3ffc471f319"
      },
      "execution_count": null,
      "outputs": [
        {
          "output_type": "stream",
          "name": "stdout",
          "text": [
            "1 10\n",
            "2 10.0\n",
            "3 12.5\n",
            "4 15.0\n",
            "5 17.5\n",
            "6 20.0\n",
            "7 20\n",
            "8 20\n"
          ]
        }
      ]
    },
    {
      "cell_type": "code",
      "source": [
        "# In class Assignment 5\n",
        "#A movie theater manager is deciding how much to spend on advertising for an upcoming movie. Each ticket is $10. Without any advertising, 20 people are forecasted to attend.\n",
        "#Additional people may attend based on advertising spending, estimated to be:\n",
        "#Additional attendes = 2x round(advertisingDollars^0.5)\n",
        "#In addition to advertising costs, there are fixed costs to run the theater of $200. Write program to generate table for diff advertising amounts + profits\n",
        "\n",
        "ticket = 10\n",
        "fixed_costs = 200\n",
        "attendees = 20\n",
        "\n",
        "for ad in range (0,201,25):\n",
        "  profit = ticket * (attendees + 2 * round(ad ** 0.5)) - fixed_costs - ad\n",
        "  print (ad, profit)\n",
        "\n"
      ],
      "metadata": {
        "id": "abyWk4XbHQ1H",
        "colab": {
          "base_uri": "https://localhost:8080/"
        },
        "outputId": "90529b65-93eb-42ce-8e99-1f2e22bf4423"
      },
      "execution_count": null,
      "outputs": [
        {
          "output_type": "stream",
          "name": "stdout",
          "text": [
            "0 0\n",
            "25 75\n",
            "50 90\n",
            "75 105\n",
            "100 100\n",
            "125 95\n",
            "150 90\n",
            "175 85\n",
            "200 80\n"
          ]
        }
      ]
    }
  ]
}