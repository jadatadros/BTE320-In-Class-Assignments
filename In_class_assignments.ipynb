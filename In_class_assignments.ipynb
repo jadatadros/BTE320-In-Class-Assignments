{
  "nbformat": 4,
  "nbformat_minor": 0,
  "metadata": {
    "colab": {
      "provenance": [],
      "authorship_tag": "ABX9TyOLFqXmQhKSJjmuWfn03mbp",
      "include_colab_link": true
    },
    "kernelspec": {
      "name": "python3",
      "display_name": "Python 3"
    },
    "language_info": {
      "name": "python"
    }
  },
  "cells": [
    {
      "cell_type": "markdown",
      "metadata": {
        "id": "view-in-github",
        "colab_type": "text"
      },
      "source": [
        "<a href=\"https://colab.research.google.com/github/jadatadros/BTE320-In-Class-Assignments/blob/main/In_class_assignments.ipynb\" target=\"_parent\"><img src=\"https://colab.research.google.com/assets/colab-badge.svg\" alt=\"Open In Colab\"/></a>"
      ]
    },
    {
      "cell_type": "code",
      "execution_count": null,
      "metadata": {
        "colab": {
          "base_uri": "https://localhost:8080/"
        },
        "id": "IQFX627Cyh6y",
        "outputId": "23e06bc5-b63b-45c7-93cb-9f572ac83b01"
      },
      "outputs": [
        {
          "output_type": "stream",
          "name": "stdout",
          "text": [
            "150.72\n"
          ]
        }
      ],
      "source": [
        "r = 2\n",
        "pi = 3.14\n",
        "h = 10\n",
        "\n",
        "SurfaceArea = 2 * pi * r ** 2 + 2 * pi * r * h\n",
        "print(SurfaceArea)"
      ]
    },
    {
      "cell_type": "code",
      "source": [
        "r = 3 # radius of the circle\n",
        "pi = 3.14 # number pi\n",
        "h = 10 # height of the cylinder\n",
        "# calculate surface area of cylinder\n",
        "area = 2 * pi * r ** 2 + 2 * pi * r * h\n",
        "# display area on the screen\n",
        "print(area)"
      ],
      "metadata": {
        "colab": {
          "base_uri": "https://localhost:8080/"
        },
        "id": "9DffAcY3zwtw",
        "outputId": "a9ecc4a6-1790-49d2-f2d2-4dcb3f4074ea"
      },
      "execution_count": null,
      "outputs": [
        {
          "output_type": "stream",
          "name": "stdout",
          "text": [
            "244.92000000000002\n"
          ]
        }
      ]
    },
    {
      "cell_type": "code",
      "source": [
        "x = 2 # see how the red comments are ignored by the interpreter\n",
        "'''\n",
        "first line\n",
        "second line\n",
        "third line\n",
        "'''\n",
        "print(x)"
      ],
      "metadata": {
        "colab": {
          "base_uri": "https://localhost:8080/"
        },
        "id": "TQGyFgjC7mbY",
        "outputId": "815ea7ac-1682-4b79-8af4-091c127dda88"
      },
      "execution_count": null,
      "outputs": [
        {
          "output_type": "stream",
          "name": "stdout",
          "text": [
            "2\n"
          ]
        }
      ]
    },
    {
      "cell_type": "code",
      "source": [
        "x = 3\n",
        "y=5.4\n",
        "s= 'abc'\n",
        "print(x,y,s)"
      ],
      "metadata": {
        "colab": {
          "base_uri": "https://localhost:8080/"
        },
        "id": "irJZkx6DCSY3",
        "outputId": "3df764af-d557-4d39-d66f-529e2c790923"
      },
      "execution_count": null,
      "outputs": [
        {
          "output_type": "stream",
          "name": "stdout",
          "text": [
            "3 5.4 abc\n"
          ]
        }
      ]
    },
    {
      "cell_type": "code",
      "source": [
        "r = 5\n",
        "pi = 3.14\n",
        "\n",
        "area = pi * (r ** 2)\n",
        "print(\"Area is\",area, \"sq ft.\") #the sq ft in quotes is a string\n",
        "print(\"Area is %.1f sq ft.\" % area)\n",
        "print(\"Area is {} sq ft.\".format(area))\n",
        "print(f\"Area is {area} sq ft.\")"
      ],
      "metadata": {
        "colab": {
          "base_uri": "https://localhost:8080/"
        },
        "id": "gSph8__sClne",
        "outputId": "0ff3c5e0-de06-471b-a86d-338ff5b83684"
      },
      "execution_count": null,
      "outputs": [
        {
          "output_type": "stream",
          "name": "stdout",
          "text": [
            "Area is 78.5 sq ft.\n",
            "Area is 78.5 sq ft.\n",
            "Area is 78.5 sq ft.\n",
            "Area is 78.5 sq ft.\n"
          ]
        }
      ]
    },
    {
      "cell_type": "code",
      "source": [
        "pi = 3.14\n",
        "r = float(input(\"Give a value for radius (in ft.): \"))\n",
        "\n",
        "type(r)"
      ],
      "metadata": {
        "colab": {
          "base_uri": "https://localhost:8080/"
        },
        "id": "OlJzfUnSOEoP",
        "outputId": "0e6b8e3b-e4a7-4cbe-e457-f599dab1863d"
      },
      "execution_count": null,
      "outputs": [
        {
          "name": "stdout",
          "output_type": "stream",
          "text": [
            "Give a value for radius (in ft.): 5\n"
          ]
        },
        {
          "output_type": "execute_result",
          "data": {
            "text/plain": [
              "float"
            ]
          },
          "metadata": {},
          "execution_count": 24
        }
      ]
    },
    {
      "cell_type": "code",
      "source": [
        "if condition:\n",
        "  expr1\n",
        "  expr2\n",
        "  ..."
      ],
      "metadata": {
        "id": "aDIj-J-f0r8F"
      },
      "execution_count": null,
      "outputs": []
    },
    {
      "cell_type": "code",
      "source": [
        "pi = 3.14\n",
        "r = 5\n",
        "shape = \"circle\"\n",
        "\n",
        "if shape == \"circle\": #we see this outcome because the shape is a circle, so the expression is true\n",
        "  area = pi * r ** 2\n",
        "  print(area)\n",
        "\n"
      ],
      "metadata": {
        "colab": {
          "base_uri": "https://localhost:8080/"
        },
        "id": "m7rT3fJ11Q2w",
        "outputId": "ef725402-e9af-47ec-ca31-9d9e7b375bce"
      },
      "execution_count": null,
      "outputs": [
        {
          "output_type": "stream",
          "name": "stdout",
          "text": [
            "78.5\n"
          ]
        }
      ]
    },
    {
      "cell_type": "code",
      "source": [
        "pi = 3.14\n",
        "r = 5\n",
        "shape = \"sqaure\"\n",
        "\n",
        "if shape == \"circle\": #this is False, so it gives nothing\n",
        "  area = pi * r ** 2\n",
        "  print(area)"
      ],
      "metadata": {
        "id": "jxq7dQ_c2NGr"
      },
      "execution_count": null,
      "outputs": []
    },
    {
      "cell_type": "code",
      "source": [
        "pi = 3.14\n",
        "r = 5\n",
        "shape = \"sqaure\"\n",
        "\n",
        "if shape == \"circle\":\n",
        "  area = pi * r ** 2\n",
        "  print(area)\n",
        "\n",
        "print('Program ends...') #this part is not indented, so it is not part of the block above"
      ],
      "metadata": {
        "colab": {
          "base_uri": "https://localhost:8080/"
        },
        "id": "yxJdHnRm3KYu",
        "outputId": "f61cf26e-a1aa-4a1e-f919-cc02b3fa2ac8"
      },
      "execution_count": null,
      "outputs": [
        {
          "output_type": "stream",
          "name": "stdout",
          "text": [
            "Program ends...\n"
          ]
        }
      ]
    },
    {
      "cell_type": "code",
      "source": [
        "pi = 3.14\n",
        "r = 5 #radius\n",
        "c = 10 # side of square\n",
        "h = 8 # height of cylinder\n",
        "shape = \"square\"\n",
        "\n",
        "if shape == \"circle\":\n",
        "  area = pi * r ** 2\n",
        "  print(area)\n",
        "\n",
        "if shape == \"square\":\n",
        "  area = c ** 2\n",
        "  print(area)\n",
        "\n",
        "\n",
        "print('Program ends...')"
      ],
      "metadata": {
        "colab": {
          "base_uri": "https://localhost:8080/"
        },
        "id": "nBKCBm8h4KP5",
        "outputId": "e68321fa-0835-4560-9e8c-8268b627da19"
      },
      "execution_count": null,
      "outputs": [
        {
          "output_type": "stream",
          "name": "stdout",
          "text": [
            "100\n",
            "Program ends...\n"
          ]
        }
      ]
    },
    {
      "cell_type": "code",
      "source": [
        "grade = 98\n",
        "\n",
        "if grade > 96:\n",
        "  print('A+')\n",
        "\n",
        "\n",
        "if grade > 93:\n",
        "  print('A')\n"
      ],
      "metadata": {
        "colab": {
          "base_uri": "https://localhost:8080/"
        },
        "id": "8ZO8eQTi4YAq",
        "outputId": "34b60987-da11-45be-bbba-8cfd6bf94136"
      },
      "execution_count": null,
      "outputs": [
        {
          "output_type": "stream",
          "name": "stdout",
          "text": [
            "A+\n",
            "A\n"
          ]
        }
      ]
    },
    {
      "cell_type": "code",
      "source": [
        "grade = 90\n",
        "\n",
        "if grade > 89:\n",
        "  print('A-')\n",
        "\n",
        "if grade > 85:\n",
        "  print('B+')"
      ],
      "metadata": {
        "colab": {
          "base_uri": "https://localhost:8080/"
        },
        "id": "We25vsLL6bwy",
        "outputId": "b440f35b-6676-4ebb-ed40-efe05222d3d0"
      },
      "execution_count": null,
      "outputs": [
        {
          "output_type": "stream",
          "name": "stdout",
          "text": [
            "A-\n",
            "B+\n"
          ]
        }
      ]
    },
    {
      "cell_type": "code",
      "source": [
        "pi = 3.14\n",
        "r = 5 #radius\n",
        "c = 10 # side of square\n",
        "h = 8 # height of cylinder\n",
        "shape = \"square\"\n",
        "\n",
        "if shape == \"circle\":\n",
        "  area = pi * r ** 2\n",
        "  print(area)\n",
        "else:\n",
        "  print(f'The program does not support shape: {shape}.')\n",
        "\n",
        "print('Program ends...')"
      ],
      "metadata": {
        "colab": {
          "base_uri": "https://localhost:8080/"
        },
        "id": "M-BAicaK7eBh",
        "outputId": "308ce906-1774-4c37-ea0a-7ea141b83ea9"
      },
      "execution_count": null,
      "outputs": [
        {
          "output_type": "stream",
          "name": "stdout",
          "text": [
            "The program does not support shape: square.\n",
            "Program ends...\n"
          ]
        }
      ]
    },
    {
      "cell_type": "code",
      "source": [
        "pi = 3.14\n",
        "r = 5 #radius\n",
        "c = 10 # side of square\n",
        "h = 8 # height of cylinder\n",
        "shape = \"square\"\n",
        "\n",
        "if shape == \"circle\":\n",
        "  area = pi * r ** 2\n",
        "elif shape == \"square\":\n",
        "  area = c ** 2\n",
        "elif shape == \"cylinder\":\n",
        "  area = 2 * pi * r * h + 2 * pi * r ** 2\n",
        "elif shape == \"triangle\":\n",
        "  area = .5 * c * h\n",
        "else:\n",
        "  area = .5 * c * h\n",
        "print(area)\n",
        "\n",
        "print('Program ends...')"
      ],
      "metadata": {
        "colab": {
          "base_uri": "https://localhost:8080/"
        },
        "id": "ls5qTpAx-gZh",
        "outputId": "98107786-d23a-4100-e422-523e99175345"
      },
      "execution_count": null,
      "outputs": [
        {
          "output_type": "stream",
          "name": "stdout",
          "text": [
            "100\n",
            "Program ends...\n"
          ]
        }
      ]
    },
    {
      "cell_type": "code",
      "source": [
        "grade = 97\n",
        "\n",
        "if grade > 93:\n",
        "  print('A')\n",
        "elif grade > 96:\n",
        "  print(\"A+\")"
      ],
      "metadata": {
        "id": "4nfHC8NFBPPl",
        "colab": {
          "base_uri": "https://localhost:8080/"
        },
        "outputId": "adfa1908-b28c-4a3d-a977-1d4de654bb44"
      },
      "execution_count": null,
      "outputs": [
        {
          "output_type": "stream",
          "name": "stdout",
          "text": [
            "A\n"
          ]
        }
      ]
    },
    {
      "cell_type": "markdown",
      "source": [
        "Write a program that calculates the returns on different levels of initial investment, shown below:\n",
        "*   initial investment < = 1,000$ with interest of 3.0%\n",
        "\n",
        "*   initial investment < = 10,000$ with interest of 3.25%\n",
        "\n",
        "*   initial investment > 10,000$ with interest of 3.5%\n",
        "\n",
        "\n",
        "\n",
        "\n",
        "\n"
      ],
      "metadata": {
        "id": "3kWmEjbLFL7o"
      }
    },
    {
      "cell_type": "code",
      "source": [
        "# Input\n",
        "init_investment = float(input('Provide initial investsment ($):'))\n",
        "n_years = int(input('Number of years for investment: '))\n",
        "\n",
        "# Processes\n",
        "if init_investment <= 1000:\n",
        "  return_investment = 1.03 ** n_years * init_investment #3% interest\n",
        "elif init_investment<= 10000:\n",
        "  return_investment = 1.0325 ** n_years * init_investment  #3.25% interest\n",
        "elif init_investment > 10000:\n",
        "  return_investment = 1.035 ** n_years * init_investment  #3.5% interest\n",
        "\n",
        "# Output\n",
        "print(return_investment)\n"
      ],
      "metadata": {
        "colab": {
          "base_uri": "https://localhost:8080/"
        },
        "id": "VC35UL5eFl_A",
        "outputId": "62a54852-2ff8-4dcf-b6d1-7c1d10b6d75f"
      },
      "execution_count": null,
      "outputs": [
        {
          "output_type": "stream",
          "name": "stdout",
          "text": [
            "Provide initial investsment ($):1000\n",
            "Number of years for investment: 20\n",
            "1806.111234669415\n"
          ]
        }
      ]
    },
    {
      "cell_type": "markdown",
      "source": [
        "Write a program that calculates the returns on different levels of initial investment and whether the client is new or existing, shown below:\n",
        "\n",
        "*   initial investment $<=1,000\\$$ and existing customer: interest rate 3.25%\n",
        "\n",
        "*   initial investment $<=10,000\\$$ and existing customer: interest rate 3.5%\n",
        "\n",
        "*   Regardless of the investment amount, if the client is new: interest rate 3%"
      ],
      "metadata": {
        "id": "tb2zzZIRLLJZ"
      }
    },
    {
      "cell_type": "code",
      "source": [
        "init_investment = float(input('Provide initial investsment ($):')) #this is a compound boolean expression (less chance of making mistake than nested)\n",
        "customer_type = input('Enter type of customer (new/existing): ')\n",
        "age = 25\n",
        "\n",
        "\n",
        "if init_investment <= 1000 and customer_type == 'existing' or age > 27:\n",
        "  ir = 0.0325\n",
        "  ret = (1 + ir) * init_investment\n",
        "elif init_investment <= 10000 and customer_type == 'existing':\n",
        "  ir = 0.035\n",
        "  ret = (1 + ir) * init_investment\n",
        "elif customer_type == 'new':\n",
        "  ret = 1.03 * init_investment\n",
        "\n"
      ],
      "metadata": {
        "id": "V-zfXPP2LwNY"
      },
      "execution_count": null,
      "outputs": []
    },
    {
      "cell_type": "code",
      "source": [
        "if init_investment <= 1000: #this is what we call nested conditionals\n",
        "  if customer_type == 'existing':\n",
        "    expr 1\n",
        "    expr 2"
      ],
      "metadata": {
        "id": "zhcmsJ-VQ1gM"
      },
      "execution_count": null,
      "outputs": []
    },
    {
      "cell_type": "code",
      "source": [
        "P1 = input('Enter move P1')\n",
        "P2 = input('Enter move P2')\n",
        "\n",
        "if P1 == P2:\n",
        "  print('Draw')\n",
        "elif P1 == 'rock' and P2 == 'scissors' or P1 == 'scissors' and P2 == 'paper'or P1== 'paper'and P2 == 'rock':\n",
        "  print('P1 wins')\n",
        "elif P2 =='rock'and P1 == 'scissors' or P2 == 'scissors' and P1 == 'paper'or P2== 'paper'and P1 == 'rock': #can also just use else: print('P2 wins') for this line\n",
        "  print('P2 wins')\n",
        "\n",
        "\n",
        "\n",
        "\n"
      ],
      "metadata": {
        "id": "EN3EPsWuSSSm",
        "colab": {
          "base_uri": "https://localhost:8080/"
        },
        "outputId": "e4397803-86f8-4e1a-db04-090621bd748c"
      },
      "execution_count": null,
      "outputs": [
        {
          "output_type": "stream",
          "name": "stdout",
          "text": [
            "Enter move P1scissors\n",
            "Enter move P2rock\n",
            "P2 wins\n"
          ]
        }
      ]
    },
    {
      "cell_type": "code",
      "source": [],
      "metadata": {
        "id": "IbLozxlr9DH3"
      },
      "execution_count": null,
      "outputs": []
    },
    {
      "cell_type": "code",
      "source": [
        "#if want to do same thing as above but have player 2 as the computer that randomly generates\n",
        "import random\n",
        "P1 = input('Enter move P1')\n",
        "P2 = random.choice(['rock','paper','scissors'])\n",
        "\n",
        "if P1 == P2:\n",
        "  print('Draw')\n",
        "elif P1 == 'rock' and P2 == 'scissors' or P1 == 'scissors' and P2 == 'paper'or P1== 'paper'and P2 == 'rock':\n",
        "  print('P1 wins')\n",
        "elif P2 =='rock'and P1 == 'scissors' or P2 == 'scissors' and P1 == 'paper'or P2== 'paper'and P1 == 'rock': #can also just use else: print('P2 wins') for this line\n",
        "  print('P2 wins')\n"
      ],
      "metadata": {
        "colab": {
          "base_uri": "https://localhost:8080/"
        },
        "id": "RWS_MsY64A6H",
        "outputId": "fa92c64f-fcf5-4d69-f081-9dd5cf45a466"
      },
      "execution_count": null,
      "outputs": [
        {
          "output_type": "stream",
          "name": "stdout",
          "text": [
            "Enter move P1rock\n",
            "Draw\n"
          ]
        }
      ]
    },
    {
      "cell_type": "code",
      "source": [
        "#In-class Assignment - 3\n",
        "\n",
        "input1 = float(input('enter input 1'))\n",
        "input2 = float(input('enter input 2'))\n",
        "symbol = input('choose operation +,-,*,**,/')\n",
        "\n",
        "\n",
        "if symbol == '+':\n",
        "  print(f'input1 + input2={input1+input2}')\n",
        "  calculation = input1 + input2\n",
        "elif symbol == '-':\n",
        "  print(f'input1 - input2={input1-input2}')\n",
        "  calculation = input1 - input2\n",
        "elif symbol == '*':\n",
        "  print(f'input1 * input2={input1*input2}')\n",
        "  calculation = input1 * input2\n",
        "elif symbol == '**':\n",
        "  print(f'input1 ** input2={input1**input2}')\n",
        "  calculation = input1 ** input2\n",
        "elif symbol == '/':\n",
        "  print(f'input1 / input2={input1/input2}')\n",
        "  calculation = input1 / input2\n",
        "\n",
        "print(calculation)\n",
        "\n"
      ],
      "metadata": {
        "colab": {
          "base_uri": "https://localhost:8080/"
        },
        "id": "3HWNybCW9HcK",
        "outputId": "55d88cab-9f3b-4e04-812f-1dbffce881a9"
      },
      "execution_count": 28,
      "outputs": [
        {
          "output_type": "stream",
          "name": "stdout",
          "text": [
            "enter input 12\n",
            "enter input 23\n",
            "choose operation +,-,*,**,/+\n",
            "input1 + input2=5.0\n",
            "5.0\n"
          ]
        }
      ]
    },
    {
      "cell_type": "code",
      "source": [],
      "metadata": {
        "id": "m-QwPf_8EG0U"
      },
      "execution_count": null,
      "outputs": []
    }
  ]
}